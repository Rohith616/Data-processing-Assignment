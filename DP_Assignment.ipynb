{
  "nbformat": 4,
  "nbformat_minor": 0,
  "metadata": {
    "colab": {
      "name": "DP Assignment.ipynb",
      "provenance": [],
      "collapsed_sections": []
    },
    "kernelspec": {
      "name": "python3",
      "display_name": "Python 3"
    },
    "language_info": {
      "name": "python"
    }
  },
  "cells": [
    {
      "cell_type": "code",
      "metadata": {
        "colab": {
          "base_uri": "https://localhost:8080/"
        },
        "id": "oFMD0MBV4eB6",
        "outputId": "72f83770-75ae-4c83-90c1-30bb4e860cee"
      },
      "source": [
        "#1) Generate an array of zeroes using inbuilt numpy function.\n",
        "a=[['0','0','0'],['0','0','0']]\n",
        "print(a)"
      ],
      "execution_count": 5,
      "outputs": [
        {
          "output_type": "stream",
          "name": "stdout",
          "text": [
            "[['0', '0', '0'], ['0', '0', '0']]\n"
          ]
        }
      ]
    },
    {
      "cell_type": "code",
      "metadata": {
        "colab": {
          "base_uri": "https://localhost:8080/"
        },
        "id": "KLWbjwcR5Un-",
        "outputId": "ec2334ae-1552-42af-f74f-7a023539c043"
      },
      "source": [
        "#2) Run the given code and find the dot product of both arrays.\n",
        "import numpy as np\n",
        "a = np.random.randint(2,10, (3,4))\n",
        "b = np.random.randint(2,10, (4,3))\n",
        "print(a)\n",
        "print(b)\n",
        "a.dot(b)"
      ],
      "execution_count": 6,
      "outputs": [
        {
          "output_type": "stream",
          "name": "stdout",
          "text": [
            "[[3 2 5 6]\n",
            " [4 2 2 7]\n",
            " [6 4 5 3]]\n",
            "[[6 8 4]\n",
            " [8 7 4]\n",
            " [8 5 6]\n",
            " [2 9 5]]\n"
          ]
        },
        {
          "output_type": "execute_result",
          "data": {
            "text/plain": [
              "array([[ 86, 117,  80],\n",
              "       [ 70, 119,  71],\n",
              "       [114, 128,  85]])"
            ]
          },
          "metadata": {},
          "execution_count": 6
        }
      ]
    },
    {
      "cell_type": "code",
      "metadata": {
        "id": "8nl5V9eE5fn8"
      },
      "source": [
        "#3)Read the csv file provided using pandas and display the first 5 entries\n",
        "import pandas as pd\n",
        "df=pd.read_csv('/content/data.csv')\n",
        "df.head()"
      ],
      "execution_count": null,
      "outputs": []
    },
    {
      "cell_type": "code",
      "metadata": {
        "colab": {
          "base_uri": "https://localhost:8080/"
        },
        "id": "k363A0bs6S8B",
        "outputId": "74fb0fd9-a350-4372-efe7-d7eef7b19577"
      },
      "source": [
        "#4)Describe the data with all features.\n",
        "print(df.columns)"
      ],
      "execution_count": 12,
      "outputs": [
        {
          "output_type": "stream",
          "name": "stdout",
          "text": [
            "Index(['OBJECTID', 'UNIT_NAME', 'DESCRIPTION', 'ACRES', 'SHAPE.AREA',\n",
            "       'SHAPE.LEN'],\n",
            "      dtype='object')\n"
          ]
        }
      ]
    },
    {
      "cell_type": "code",
      "metadata": {
        "id": "n-V0wkrh7T5l"
      },
      "source": [
        "#5)Find the total count of missing values for each feature.\n",
        "df.isnull().sum()"
      ],
      "execution_count": null,
      "outputs": []
    },
    {
      "cell_type": "code",
      "metadata": {
        "colab": {
          "base_uri": "https://localhost:8080/"
        },
        "id": "3X3u27Ej8Iso",
        "outputId": "1707510c-86a3-42cf-a251-b1804fe277d9"
      },
      "source": [
        "#6)Display all the unique values from the 'DESCRIPTION’ column.\n",
        "df.DESCRIPTION.unique()"
      ],
      "execution_count": 15,
      "outputs": [
        {
          "output_type": "execute_result",
          "data": {
            "text/plain": [
              "array(['State Park', 'Interpretive Center', 'State Recreation Area',\n",
              "       'State Natural Area', 'State Nature Preserve'], dtype=object)"
            ]
          },
          "metadata": {},
          "execution_count": 15
        }
      ]
    },
    {
      "cell_type": "code",
      "metadata": {
        "id": "8rWA0uNU8Rmi"
      },
      "source": [
        "#7)Create a grouped table usin 'DESCRIPTION' as the grouping columns with the means of all the other columns.\n",
        "df.groupby(['DESCRIPTION']).mean()"
      ],
      "execution_count": null,
      "outputs": []
    },
    {
      "cell_type": "code",
      "metadata": {
        "id": "MkPEL9lw9uOp"
      },
      "source": [
        "#8)Generate a random sample of 10 rows from the data.\n",
        "df.sample(n=10)\n"
      ],
      "execution_count": null,
      "outputs": []
    },
    {
      "cell_type": "code",
      "metadata": {
        "id": "M_42EA1Q_PcL"
      },
      "source": [
        "#9)Add a Feature called 'New_feature' to the new Dataset and Add Random float Values in between 0 and 1 using Numpy\n",
        "df['New_feature']=np.random.rand(25)\n",
        "df"
      ],
      "execution_count": null,
      "outputs": []
    },
    {
      "cell_type": "code",
      "metadata": {
        "id": "Xvr7GetpAsS3"
      },
      "source": [
        "#10) Replace zero value of column 'OBJECTID' with mean value permanently.\n",
        "m=df['OBJECTID'].mean()\n",
        "df.OBJECTID.fillna(m)\n"
      ],
      "execution_count": null,
      "outputs": []
    }
  ]
}