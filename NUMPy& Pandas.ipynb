{
  "nbformat": 4,
  "nbformat_minor": 0,
  "metadata": {
    "colab": {
      "name": "NUMPy parc.ipynb",
      "provenance": [],
      "collapsed_sections": []
    },
    "kernelspec": {
      "name": "python3",
      "display_name": "Python 3"
    },
    "language_info": {
      "name": "python"
    }
  },
  "cells": [
    {
      "cell_type": "code",
      "metadata": {
        "id": "lDkXiVg6l7Mp",
        "colab": {
          "base_uri": "https://localhost:8080/"
        },
        "outputId": "5df86378-c57e-4794-ba29-9e19e4f9d3b2"
      },
      "source": [
        "lst=[10,20,100,0,50]\n",
        "import numpy as np\n",
        "arr=np.array(lst)\n",
        "print(arr+20)\n",
        "print(arr.nbytes)"
      ],
      "execution_count": null,
      "outputs": [
        {
          "output_type": "stream",
          "name": "stdout",
          "text": [
            "[ 30  40 120  20  70]\n",
            "40\n"
          ]
        }
      ]
    },
    {
      "cell_type": "code",
      "metadata": {
        "id": "YjmqEp3NnWr3"
      },
      "source": [
        "lst=[222,450,78,50,20]\n",
        "import numpy as np\n",
        "import sys\n",
        "arr=np.array(lst)\n",
        "print(arr.nbytes)\n",
        "print(sys.getsizeof(lst))\n",
        "print(arr)"
      ],
      "execution_count": null,
      "outputs": []
    },
    {
      "cell_type": "code",
      "metadata": {
        "id": "vu1zWzsYs0J9"
      },
      "source": [
        "import numpy as np\n",
        "a=np.array([1,2,3,4])\n",
        "b=np.array([[1,2,3,4],[5,6,7,8]])\n",
        "print(a)\n",
        "print('_____')\n",
        "print(b)"
      ],
      "execution_count": null,
      "outputs": []
    },
    {
      "cell_type": "code",
      "metadata": {
        "id": "_G5-eSV1zNVR"
      },
      "source": [
        "import numpy as np\n",
        "a=np.array([1,2,3,4])\n",
        "b=np.array([[1,2,3,4],[5,6,7,8]])\n",
        "print(a.shape)\n",
        "print(b.shape)\n",
        "print(a.ndim)\n",
        "print(b.ndim)\n",
        "print(a.size)\n",
        "print(b.size)\n",
        "print(a.dtype)\n",
        "print(b.dtype)\n",
        "print(a.itemsize)\n",
        "print(b.itemsize)"
      ],
      "execution_count": null,
      "outputs": []
    },
    {
      "cell_type": "code",
      "metadata": {
        "id": "wVE4Xf_G2xaH"
      },
      "source": [
        "print(np.array([5,6,7,45,12,52]).reshape(2,3))"
      ],
      "execution_count": null,
      "outputs": []
    },
    {
      "cell_type": "code",
      "metadata": {
        "id": "vfS5_tJl10im"
      },
      "source": [
        "print(np.matrix([[1,2],[3,4]]))"
      ],
      "execution_count": null,
      "outputs": []
    },
    {
      "cell_type": "code",
      "metadata": {
        "id": "pYL-wwmP05bc"
      },
      "source": [
        "print(np.eye(3))\n",
        "print(np.zeros((4,3)))\n",
        "print(np.ones((3,3),dtype=np.float64))"
      ],
      "execution_count": null,
      "outputs": []
    },
    {
      "cell_type": "code",
      "metadata": {
        "id": "JUFt8QDh6Jtn"
      },
      "source": [
        "print(np.arange(1,20,dtype='int32'))"
      ],
      "execution_count": null,
      "outputs": []
    },
    {
      "cell_type": "code",
      "metadata": {
        "id": "pugLr5PN62XY"
      },
      "source": [
        "print(np.arange(1,20,2,dtype='int8'))"
      ],
      "execution_count": null,
      "outputs": []
    },
    {
      "cell_type": "code",
      "metadata": {
        "id": "gjSCq8gK7A7z"
      },
      "source": [
        "lst_1=[20,30,40]\n",
        "lst_2=[0,2,4]\n",
        "import numpy as np\n",
        "arr=np.array(lst_1+lst_2)\n",
        "print(arr)"
      ],
      "execution_count": null,
      "outputs": []
    },
    {
      "cell_type": "code",
      "metadata": {
        "id": "F816lXkp92Zf"
      },
      "source": [
        "arr1=[25,56,12,85,34,75]\n",
        "arr2=[42,3,86,32,856,46]\n",
        "import numpy as np\n",
        "arr=np.random.randint(arr1)\n",
        "print(arr)"
      ],
      "execution_count": null,
      "outputs": []
    },
    {
      "cell_type": "code",
      "metadata": {
        "id": "roWuROiuQH8r"
      },
      "source": [
        "a=np.array([[1,2,3],[4,5,6],[7,8,9]])\n",
        "print(a[2][1])"
      ],
      "execution_count": null,
      "outputs": []
    },
    {
      "cell_type": "code",
      "metadata": {
        "id": "YrgbODz_vZYP"
      },
      "source": [
        "print(a[:2,:2])\n",
        "print(a[2,:])"
      ],
      "execution_count": null,
      "outputs": []
    },
    {
      "cell_type": "code",
      "metadata": {
        "id": "fGzEUsoVRJx_"
      },
      "source": [
        "a=np.array([[1,2],[3,4],[5,6]])\n",
        "print(a[[0,1],[0]])\n",
        "print(np.array([a[0,0],a[1,1],a[2,0]]))\n",
        "print(a[[0,0],[1,1]])"
      ],
      "execution_count": null,
      "outputs": []
    },
    {
      "cell_type": "code",
      "metadata": {
        "id": "vLgUxQ4gS5BD"
      },
      "source": [
        "print(np.array([a[0,1],a[0,1]]))"
      ],
      "execution_count": null,
      "outputs": []
    },
    {
      "cell_type": "code",
      "metadata": {
        "id": "Gpn7TBumTRfB"
      },
      "source": [
        "print(a)"
      ],
      "execution_count": null,
      "outputs": []
    },
    {
      "cell_type": "code",
      "metadata": {
        "id": "eO06agmwTns7"
      },
      "source": [
        "b=a>3\n",
        "print(b)\n",
        "print(a[b])"
      ],
      "execution_count": null,
      "outputs": []
    },
    {
      "cell_type": "code",
      "metadata": {
        "id": "k9dIolqaUUe8"
      },
      "source": [
        "a=np.array([3,4.5,3+5j,0])\n",
        "import numpy as np\n",
        "print(a.real)\n",
        "print(a.imag)\n"
      ],
      "execution_count": null,
      "outputs": []
    },
    {
      "cell_type": "code",
      "metadata": {
        "id": "O_2JbABOWUKb"
      },
      "source": [
        "a = np.array([[1,4,9],[16,25,36]])\n",
        "print(np.sqrt(a))"
      ],
      "execution_count": null,
      "outputs": []
    },
    {
      "cell_type": "code",
      "metadata": {
        "id": "6nO686xIYq3Q"
      },
      "source": [
        "print(a.sum())\n",
        "print(a.min())\n",
        "print(a.max(axis=0))\n",
        "print(a.cumsum(axis=1))\n",
        "print(a.mean())\n",
        "print(np.median(a))\n",
        "print(np.corrcoef(a))\n",
        "print(np.std(a))"
      ],
      "execution_count": null,
      "outputs": []
    },
    {
      "cell_type": "code",
      "metadata": {
        "colab": {
          "base_uri": "https://localhost:8080/"
        },
        "id": "A-5TA6vkaada",
        "outputId": "d9e990dd-20e2-40a7-83f6-4734a32c56e3"
      },
      "source": [
        "a=  np.array([1,-4,4])\n",
        "roots = np.roots(a)\n",
        "print(roots)"
      ],
      "execution_count": null,
      "outputs": [
        {
          "output_type": "stream",
          "name": "stdout",
          "text": [
            "[2. 2.]\n"
          ]
        }
      ]
    },
    {
      "cell_type": "code",
      "metadata": {
        "id": "84kzGttVeb1X"
      },
      "source": [
        "a = np.array([5,6,7,8])\n",
        "b = np.array([5,6,7,9])\n",
        "print(np.array_equal(a,b))"
      ],
      "execution_count": null,
      "outputs": []
    },
    {
      "cell_type": "code",
      "metadata": {
        "id": "q2Y9BqPEgQQN"
      },
      "source": [
        "a = np.array([[2,5,7],[4,25,30]])\n",
        "print(a.sum(axis=1))\n",
        "print(a.sum())"
      ],
      "execution_count": null,
      "outputs": []
    },
    {
      "cell_type": "code",
      "metadata": {
        "id": "RA_vrdckh9Uv"
      },
      "source": [
        "a=np.array([[40,35,20],[21,48,70]])\n",
        "print(\"The minumum price on day 1 is\",a.min())\n",
        "print('The maximum price on day 2 is',a.max())\n",
        "print('The profit is',a.max()-a.min())\n",
        "print('The Session of buying is',np.where(a==a.min()))\n",
        "print('The session of Selling is',np.where(a==a.max()))"
      ],
      "execution_count": null,
      "outputs": []
    },
    {
      "cell_type": "code",
      "metadata": {
        "id": "FZQiRQaa2Bt8"
      },
      "source": [
        "np.array([1,2,3])+4"
      ],
      "execution_count": null,
      "outputs": []
    },
    {
      "cell_type": "code",
      "metadata": {
        "colab": {
          "base_uri": "https://localhost:8080/"
        },
        "id": "TR33i3-s3gio",
        "outputId": "8b9bd8f8-549f-40d6-ed76-870e2206d804"
      },
      "source": [
        "np.arange(2)+4"
      ],
      "execution_count": null,
      "outputs": [
        {
          "output_type": "execute_result",
          "data": {
            "text/plain": [
              "array([4, 5])"
            ]
          },
          "metadata": {},
          "execution_count": 14
        }
      ]
    },
    {
      "cell_type": "code",
      "metadata": {
        "id": "tcrcCVeZ8cE_"
      },
      "source": [
        "np.ones((3,4)) + np.arange(4)"
      ],
      "execution_count": null,
      "outputs": []
    },
    {
      "cell_type": "code",
      "metadata": {
        "id": "SoBNnPgA9DMq"
      },
      "source": [
        "np.arange(3).reshape((3,1))+np.arange(3)"
      ],
      "execution_count": null,
      "outputs": []
    },
    {
      "cell_type": "code",
      "metadata": {
        "id": "2omYl3es9uJB"
      },
      "source": [
        "(np.random.random_integers(1,6,size=(5,5)))\n"
      ],
      "execution_count": null,
      "outputs": []
    },
    {
      "cell_type": "code",
      "metadata": {
        "id": "e_tNX2du2Vcn"
      },
      "source": [
        "a=np.array([[4, 6, 2, 1, 5],[1, 5, 2, 1, 6],[1, 2, 3, 3, 3],[5, 2, 1, 1, 6],[6, 3, 1, 3, 6]])\n",
        "print(a)\n",
        "b=a.copy().min()\n",
        "print('the mim value is',b)\n",
        "c=a.copy().max()\n",
        "print('the max value is',c)\n",
        "z=c-b\n",
        "z_norm=np.array([[4, 6, 2, 1, 5],[1, 5, 2, 1, 6],[1, 2, 3, 3, 3],[5, 2, 1, 1, 6],[6, 3, 1, 3, 6]])/(z)\n",
        "print(z_norm)\n"
      ],
      "execution_count": null,
      "outputs": []
    },
    {
      "cell_type": "code",
      "metadata": {
        "id": "OdSHV9tk7kz-"
      },
      "source": [
        "data_file='data'\n",
        "import numpy as np\n",
        "\n",
        "data=np.genfromtxt(data_file,delimiter=',')\n",
        "print(\"\\nData:\\n\\n\",data)\n",
        "print(\"\\ntype of data: \\n\\n\",data)\n",
        "new_record=[[50, 9, 4, 1, 0, 0, 40, 0]]\n",
        "b=np.corrcoef(new_record) \n",
        "print(b)"
      ],
      "execution_count": null,
      "outputs": []
    },
    {
      "cell_type": "code",
      "metadata": {
        "id": "z9oQVpX7OF6c"
      },
      "source": [
        "data_file='/content/makeSenseOfCensus.csv'\n",
        "import numpy as np\n",
        "data=np.genfromtxt(data_file,delimiter=',',skip_header=1)\n",
        "age=data[:,0]\n",
        "max_age=age.max()\n",
        "min_age=age.min()\n",
        "age_mean=age.mean()\n",
        "age_std=np.std(age)\n",
        "print(age_std)"
      ],
      "execution_count": null,
      "outputs": []
    },
    {
      "cell_type": "code",
      "metadata": {
        "colab": {
          "base_uri": "https://localhost:8080/",
          "height": 141
        },
        "id": "MeK9oL-qaouN",
        "outputId": "c8169f0d-66d6-4efe-d22c-f70d64d018fa"
      },
      "source": [
        "import pandas as pd\n",
        "\n",
        "df =pd.DataFrame (\n",
        "     {\n",
        "        'name':[\"Braund, Mr. Owen Harris\",\n",
        "            \"Allen, Mr. William Henry\",\n",
        "            \"Bonnell, Miss. Elizabeth\",\n",
        "            ],\n",
        "         'age':[22,33,23],\n",
        "          'sex':['male','male','female'] \n",
        "     }\n",
        "    )\n",
        "df\n"
      ],
      "execution_count": null,
      "outputs": [
        {
          "output_type": "execute_result",
          "data": {
            "text/html": [
              "<div>\n",
              "<style scoped>\n",
              "    .dataframe tbody tr th:only-of-type {\n",
              "        vertical-align: middle;\n",
              "    }\n",
              "\n",
              "    .dataframe tbody tr th {\n",
              "        vertical-align: top;\n",
              "    }\n",
              "\n",
              "    .dataframe thead th {\n",
              "        text-align: right;\n",
              "    }\n",
              "</style>\n",
              "<table border=\"1\" class=\"dataframe\">\n",
              "  <thead>\n",
              "    <tr style=\"text-align: right;\">\n",
              "      <th></th>\n",
              "      <th>name</th>\n",
              "      <th>age</th>\n",
              "      <th>sex</th>\n",
              "    </tr>\n",
              "  </thead>\n",
              "  <tbody>\n",
              "    <tr>\n",
              "      <th>0</th>\n",
              "      <td>Braund, Mr. Owen Harris</td>\n",
              "      <td>22</td>\n",
              "      <td>male</td>\n",
              "    </tr>\n",
              "    <tr>\n",
              "      <th>1</th>\n",
              "      <td>Allen, Mr. William Henry</td>\n",
              "      <td>33</td>\n",
              "      <td>male</td>\n",
              "    </tr>\n",
              "    <tr>\n",
              "      <th>2</th>\n",
              "      <td>Bonnell, Miss. Elizabeth</td>\n",
              "      <td>23</td>\n",
              "      <td>female</td>\n",
              "    </tr>\n",
              "  </tbody>\n",
              "</table>\n",
              "</div>"
            ],
            "text/plain": [
              "                       name  age     sex\n",
              "0   Braund, Mr. Owen Harris   22    male\n",
              "1  Allen, Mr. William Henry   33    male\n",
              "2  Bonnell, Miss. Elizabeth   23  female"
            ]
          },
          "metadata": {},
          "execution_count": 60
        }
      ]
    },
    {
      "cell_type": "code",
      "metadata": {
        "colab": {
          "base_uri": "https://localhost:8080/",
          "height": 110
        },
        "id": "Shu5lElq7LE1",
        "outputId": "3fdeef31-7a31-4915-bc86-28a74bdfff32"
      },
      "source": [
        "new_dictionary={'day':[50,21],'night':[131,2]}\n",
        "pd.DataFrame(new_dictionary)"
      ],
      "execution_count": null,
      "outputs": [
        {
          "output_type": "execute_result",
          "data": {
            "text/html": [
              "<div>\n",
              "<style scoped>\n",
              "    .dataframe tbody tr th:only-of-type {\n",
              "        vertical-align: middle;\n",
              "    }\n",
              "\n",
              "    .dataframe tbody tr th {\n",
              "        vertical-align: top;\n",
              "    }\n",
              "\n",
              "    .dataframe thead th {\n",
              "        text-align: right;\n",
              "    }\n",
              "</style>\n",
              "<table border=\"1\" class=\"dataframe\">\n",
              "  <thead>\n",
              "    <tr style=\"text-align: right;\">\n",
              "      <th></th>\n",
              "      <th>day</th>\n",
              "      <th>night</th>\n",
              "    </tr>\n",
              "  </thead>\n",
              "  <tbody>\n",
              "    <tr>\n",
              "      <th>0</th>\n",
              "      <td>50</td>\n",
              "      <td>131</td>\n",
              "    </tr>\n",
              "    <tr>\n",
              "      <th>1</th>\n",
              "      <td>21</td>\n",
              "      <td>2</td>\n",
              "    </tr>\n",
              "  </tbody>\n",
              "</table>\n",
              "</div>"
            ],
            "text/plain": [
              "   day  night\n",
              "0   50    131\n",
              "1   21      2"
            ]
          },
          "metadata": {},
          "execution_count": 65
        }
      ]
    },
    {
      "cell_type": "code",
      "metadata": {
        "id": "TI4WLmtpH-Ze"
      },
      "source": [
        "pd.Series([1,2,3,4,5])"
      ],
      "execution_count": null,
      "outputs": []
    },
    {
      "cell_type": "code",
      "metadata": {
        "id": "fZqKNlPhIj-O"
      },
      "source": [
        "pd.Series([30,35,40],index=['2015 sales','2016 sales','2017 sales'],name='product A')"
      ],
      "execution_count": null,
      "outputs": []
    },
    {
      "cell_type": "code",
      "metadata": {
        "id": "v9Vc68PuJc7g",
        "colab": {
          "base_uri": "https://localhost:8080/",
          "height": 35
        },
        "outputId": "9d8289c2-885e-4895-bc8e-797388b4633e"
      },
      "source": [
        "import pandas as pd\n",
        "\n",
        "df=pd.read_csv('/content/test.csv')\n",
        "df\n",
        "df.shape\n",
        "df.columns\n",
        "df.Neighborhood\n",
        "df['Neighborhood']\n",
        "df['Neighborhood'][0]"
      ],
      "execution_count": null,
      "outputs": [
        {
          "output_type": "execute_result",
          "data": {
            "application/vnd.google.colaboratory.intrinsic+json": {
              "type": "string"
            },
            "text/plain": [
              "'NAmes'"
            ]
          },
          "metadata": {},
          "execution_count": 6
        }
      ]
    },
    {
      "cell_type": "code",
      "metadata": {
        "id": "wsDrWxfDPSNP"
      },
      "source": [
        "df"
      ],
      "execution_count": null,
      "outputs": []
    },
    {
      "cell_type": "code",
      "metadata": {
        "id": "0daNj3OwNZT4"
      },
      "source": [
        "df.iloc[0]\n",
        "df.iloc[:,10]\n",
        "df.iloc[:3,10]\n",
        "df.iloc[2:4,10]\n",
        "df.iloc[[4,5,6],10]\n",
        "df.iloc[-5:]"
      ],
      "execution_count": null,
      "outputs": []
    },
    {
      "cell_type": "code",
      "metadata": {
        "id": "xChIblzeNZVo"
      },
      "source": [
        "df.loc[12,'Id']"
      ],
      "execution_count": null,
      "outputs": []
    },
    {
      "cell_type": "code",
      "metadata": {
        "id": "t8N6Zvj6R5Dl"
      },
      "source": [
        "df.set_index('Id')"
      ],
      "execution_count": null,
      "outputs": []
    },
    {
      "cell_type": "code",
      "metadata": {
        "id": "q-LekjExUp8u"
      },
      "source": [
        "df.Neighborhood.unique()\n",
        "df.Neighborhood=='Edwards'\n",
        "df.loc[df.Neighborhood=='Edwards']\n",
        "df.loc[(df.Neighborhood=='Edwards')|(df.LotFrontage>=50.0)]\n",
        "df.loc[(df.Neighborhood=='Edwards')&(df.LotArea>=5000)]"
      ],
      "execution_count": null,
      "outputs": []
    },
    {
      "cell_type": "code",
      "metadata": {
        "id": "JOKJPppHYEZQ"
      },
      "source": [
        "df['visitor']='Everyone'\n",
        "df['visitor']"
      ],
      "execution_count": null,
      "outputs": []
    },
    {
      "cell_type": "code",
      "metadata": {
        "id": "BHyzPfIDYzja"
      },
      "source": [
        "df['index_backwards']=range(len(df),0,-1)\n",
        "df['index_backwards']"
      ],
      "execution_count": null,
      "outputs": []
    },
    {
      "cell_type": "code",
      "metadata": {
        "id": "tHFAiXRIkOsE"
      },
      "source": [
        "df.columns"
      ],
      "execution_count": null,
      "outputs": []
    },
    {
      "cell_type": "code",
      "metadata": {
        "id": "b3yDwPR0kmHO"
      },
      "source": [
        "df"
      ],
      "execution_count": null,
      "outputs": []
    },
    {
      "cell_type": "code",
      "metadata": {
        "id": "uhjumQLimJ8V"
      },
      "source": [
        "df.info()"
      ],
      "execution_count": null,
      "outputs": []
    },
    {
      "cell_type": "code",
      "metadata": {
        "id": "y75X1ZCgpqmL"
      },
      "source": [
        "df.LotArea.describe()"
      ],
      "execution_count": null,
      "outputs": []
    },
    {
      "cell_type": "code",
      "metadata": {
        "id": "rsDcXlSKqjGJ"
      },
      "source": [
        "df.LotArea.mean()\n",
        "df.LotArea.unique()\n"
      ],
      "execution_count": null,
      "outputs": []
    },
    {
      "cell_type": "code",
      "metadata": {
        "id": "-uRFrEByrzAe"
      },
      "source": [
        "df.Neighborhood.unique()"
      ],
      "execution_count": null,
      "outputs": []
    },
    {
      "cell_type": "code",
      "metadata": {
        "id": "RxmZWZmpsJdh"
      },
      "source": [
        "df.Neighborhood.value_counts()"
      ],
      "execution_count": null,
      "outputs": []
    },
    {
      "cell_type": "code",
      "metadata": {
        "id": "O9-MwnbPs7Ie"
      },
      "source": [
        "df.loc[:,'OverallQual']"
      ],
      "execution_count": null,
      "outputs": []
    },
    {
      "cell_type": "code",
      "metadata": {
        "id": "qGbUStO5xOWM"
      },
      "source": [
        "x=df.OverallQual.mean()\n",
        "df.OverallQual.map(lambda curr_val:curr_val-x)"
      ],
      "execution_count": null,
      "outputs": []
    },
    {
      "cell_type": "code",
      "metadata": {
        "id": "Lu2ARbKGyKDz"
      },
      "source": [
        "def remean_lotarea(row):\n",
        "  x=df.OverallQual.mean()\n",
        "  row.OverallQual=row.OverallQual-x\n",
        "  return row\n",
        "df.apply(remean_lotarea, axis='columns')"
      ],
      "execution_count": null,
      "outputs": []
    },
    {
      "cell_type": "code",
      "metadata": {
        "id": "4lYMBsly3pZ9"
      },
      "source": [
        "x=df.OverallQual.mean()\n",
        "df.OverallQual-x"
      ],
      "execution_count": null,
      "outputs": []
    },
    {
      "cell_type": "code",
      "metadata": {
        "id": "YDbWipVr5aH1"
      },
      "source": [
        "df.BldgType+','+df.HouseStyle"
      ],
      "execution_count": null,
      "outputs": []
    },
    {
      "cell_type": "code",
      "metadata": {
        "id": "jYzsIo2n6S26"
      },
      "source": [
        "df"
      ],
      "execution_count": null,
      "outputs": []
    },
    {
      "cell_type": "code",
      "metadata": {
        "id": "ElKWKHiS6psz"
      },
      "source": [
        "df.groupby(['Neighborhood']).count()\n",
        "df.groupby('Neighborhood').Neighborhood.count()\n",
        "df.Neighborhood.value_counts()"
      ],
      "execution_count": null,
      "outputs": []
    },
    {
      "cell_type": "code",
      "metadata": {
        "id": "oVVP5PB88Pza"
      },
      "source": [
        "#.min() with .groupby()\n",
        "df.groupby('Neighborhood').LotArea.min()"
      ],
      "execution_count": null,
      "outputs": []
    },
    {
      "cell_type": "code",
      "metadata": {
        "id": "W6Qiv6fc9EKO"
      },
      "source": [
        "#.apply() with .groupby()\n",
        "df.groupby('Neighborhood').apply(lambda df:df.YearBuilt.iloc[0])"
      ],
      "execution_count": null,
      "outputs": []
    },
    {
      "cell_type": "code",
      "metadata": {
        "id": "wS8UB9eX9kia"
      },
      "source": [
        "#.agg() with .groupby()**\n",
        "df.groupby('Neighborhood').SalePrice.agg([len,min,max])"
      ],
      "execution_count": null,
      "outputs": []
    },
    {
      "cell_type": "code",
      "metadata": {
        "id": "Qpz3fC0YBQVV"
      },
      "source": [
        "# get the number of building types per year for each neighborhood\n",
        "b=df.groupby(['Neighborhood','YearBuilt']).BldgType.agg([len])\n",
        "b\n"
      ],
      "execution_count": null,
      "outputs": []
    },
    {
      "cell_type": "code",
      "metadata": {
        "id": "1ExK1kzQCS5F"
      },
      "source": [
        "# convert multi-index to regular-index\n",
        "b.reset_index()\n",
        "# sorting\n",
        "b.sort_values(by='len')\n",
        "b.sort_values(by='len',ascending=False)\n",
        "b.sort_index()\n",
        "b.sort_values(by=['Neighborhood','len'])"
      ],
      "execution_count": null,
      "outputs": []
    },
    {
      "cell_type": "code",
      "metadata": {
        "id": "bPsZ7txTDFjG"
      },
      "source": [
        "df.SalePrice.dtype\n",
        "df.index.dtype\n",
        "df.dtypes"
      ],
      "execution_count": null,
      "outputs": []
    },
    {
      "cell_type": "code",
      "metadata": {
        "id": "NBynyr0sF9vs"
      },
      "source": [
        "df.SalePrice.astype('float')"
      ],
      "execution_count": null,
      "outputs": []
    },
    {
      "cell_type": "code",
      "metadata": {
        "id": "PwCAKyewfzAU"
      },
      "source": [
        "df[pd.isnull(df.Fence)]\n",
        "df.Fence.fillna('No Fence')\n",
        "df.Neighborhood.replace('NoRidge','NorthRidge')\n",
        "df.rename(columns={'Neighborhood':'Locality'})\n",
        "df.rename(index={0:'firstEntry',1:'secondEntry'})\n",
        "df.set_index(\"Idd\")\n",
        "df.rename_axis('House',axis='rows').rename_axis('Details',axis='columns')\n"
      ],
      "execution_count": null,
      "outputs": []
    },
    {
      "cell_type": "code",
      "metadata": {
        "id": "mt1rs-ynm3qo"
      },
      "source": [
        "s1=pd.Series(['a','b'])\n",
        "s2=pd.Series(['c','d'])\n",
        "pd.concat([s1,s2],ignore_index=True)"
      ],
      "execution_count": null,
      "outputs": []
    },
    {
      "cell_type": "code",
      "metadata": {
        "id": "KFfgGAS9pZR2"
      },
      "source": [
        "df1 = pd.DataFrame([['a', 1], ['b', 2]])\n",
        "df2 = pd.DataFrame([['c', 3], ['d', 4]])\n",
        "pd.concat([df1, df2],ignore_index=True)\n",
        "df3 = pd.DataFrame([['c', 3, 'cat'], ['d', 4, 'dog']])\n",
        "pd.concat([df1,df3],sort=False,ignore_index=True)\n",
        "pd.concat([df1, df3], join=\"inner\",ignore_index=True)"
      ],
      "execution_count": null,
      "outputs": []
    },
    {
      "cell_type": "code",
      "metadata": {
        "id": "ydCkB8PpusuX"
      },
      "source": [
        "df1 = pd.DataFrame({'lkey': ['foo', 'bar', 'baz', 'foo'],'value': [1, 2, 3, 5]})\n",
        "df1\n",
        "df2 = pd.DataFrame({'rkey': ['foo', 'bar', 'baz', 'foo'],'value': [5, 6, 7, 8]})\n",
        "df2\n",
        "df1.merge(df2, left_on='lkey', right_on='rkey')"
      ],
      "execution_count": null,
      "outputs": []
    },
    {
      "cell_type": "code",
      "metadata": {
        "id": "HciFGPinvlAJ"
      },
      "source": [
        "import numpy as np\n",
        "import pandas as pd\n",
        "import seaborn as sns\n",
        "random_num_array=np.random.rand(10,4)\n",
        "random_num_array\n",
        "data=pd.DataFrame(random_num_array,columns=['A','B','C','D'])\n",
        "data"
      ],
      "execution_count": null,
      "outputs": []
    },
    {
      "cell_type": "code",
      "metadata": {
        "id": "WZnBVM13yJj7"
      },
      "source": [
        "data.plot.bar(figsize=(16,9))"
      ],
      "execution_count": null,
      "outputs": []
    },
    {
      "cell_type": "code",
      "metadata": {
        "id": "1o7_ycWNydDq"
      },
      "source": [
        "data.plot.bar(stacked=True ,figsize=(16,9))"
      ],
      "execution_count": null,
      "outputs": []
    },
    {
      "cell_type": "code",
      "metadata": {
        "id": "B_iUbTW3y90r"
      },
      "source": [
        "data.plot.barh(figsize=(16,9))"
      ],
      "execution_count": null,
      "outputs": []
    },
    {
      "cell_type": "code",
      "metadata": {
        "id": "yTWr9KAvzt1e"
      },
      "source": [
        "#color change palette\n",
        "sns.set_palette('magma')\n",
        "data.plot.barh(figsize=(16,9),stacked=True)"
      ],
      "execution_count": null,
      "outputs": []
    },
    {
      "cell_type": "code",
      "metadata": {
        "id": "f8t8RUgB0bP-"
      },
      "source": [
        "sns.set_palette('muted')\n",
        "data.plot.area(figsize=(16,9))"
      ],
      "execution_count": null,
      "outputs": []
    },
    {
      "cell_type": "code",
      "metadata": {
        "id": "kD3kaxFx0upd"
      },
      "source": [
        "data.plot.area(figsize=(16,9),stacked=True)"
      ],
      "execution_count": null,
      "outputs": []
    },
    {
      "cell_type": "code",
      "metadata": {
        "id": "Ebqg_PZd1MS9"
      },
      "source": [
        "data.diff()"
      ],
      "execution_count": null,
      "outputs": []
    },
    {
      "cell_type": "code",
      "metadata": {
        "id": "cbskC_JC1q4R"
      },
      "source": [
        "data.diff().plot.box(vert=False,\n",
        "                     color={'medians':'lightblue',\n",
        "                            'boxes':'blue',\n",
        "                            'caps':'darkblue',});"
      ],
      "execution_count": null,
      "outputs": []
    },
    {
      "cell_type": "code",
      "metadata": {
        "id": "Z6wVspAG527_"
      },
      "source": [
        "#Rolling Mean\n",
        "rand_values_vector = np.random.rand(100, 1)\n",
        "data_two = pd.DataFrame(rand_values_vector, columns=['value']).reset_index()\n",
        "data_two\n",
        "data_two['value'].plot(figsize=(16,9))\n",
        "data_two['value'].rolling(10).mean().plot(figsize=(16,9))"
      ],
      "execution_count": null,
      "outputs": []
    },
    {
      "cell_type": "code",
      "metadata": {
        "id": "pNuUynt26j8I"
      },
      "source": [
        "data.plot.kde(figsize=(16,9));"
      ],
      "execution_count": null,
      "outputs": []
    },
    {
      "cell_type": "code",
      "metadata": {
        "id": "FHnGdZmn6qHa"
      },
      "source": [
        "#pie chart\n",
        "data.plot.pie(subplots=True,figsize=(8,4))"
      ],
      "execution_count": null,
      "outputs": []
    },
    {
      "cell_type": "code",
      "metadata": {
        "id": "JE7GTu4w67M7"
      },
      "source": [
        "#line graphs\n",
        "data.plot(subplots=True,layout=(2,2),figsize=(20,10))"
      ],
      "execution_count": null,
      "outputs": []
    },
    {
      "cell_type": "code",
      "metadata": {
        "id": "3WPVpw-c7T7d"
      },
      "source": [
        "import pandas as pd\n",
        "import numpy as np\n",
        "import sklearn\n",
        "dff=pd.read_csv('/content/fifa19.csv',index_col=0)\n",
        "dff.head()\n",
        "dff.shape\n",
        "dff.info()"
      ],
      "execution_count": null,
      "outputs": []
    },
    {
      "cell_type": "code",
      "metadata": {
        "id": "A5sCsmxcXf6I"
      },
      "source": [
        "dff.drop(columns=['Photo','Flag','ID','Real Face'])"
      ],
      "execution_count": null,
      "outputs": []
    },
    {
      "cell_type": "code",
      "metadata": {
        "id": "lC0F-QMhYQF4"
      },
      "source": [
        "dff.head()"
      ],
      "execution_count": null,
      "outputs": []
    },
    {
      "cell_type": "code",
      "metadata": {
        "id": "b0dJdJm_YwMi"
      },
      "source": [
        "dff.isnull().sum()\n",
        "round(dff.isnull().sum()/dff.shape[0]*100)\n",
        "dff.head()\n",
        "drop_cols=[col_name for col_name in dff.columns if dff[col_name].isnull().sum()/dff.shape[0]*100>10.0]\n",
        "drop_cols\n",
        "dff.drop(columns=drop_cols,inplace=True)\n",
        "round(dff.isnull().sum()/dff.shape[0]*100)\n",
        "dff.head()"
      ],
      "execution_count": null,
      "outputs": []
    },
    {
      "cell_type": "code",
      "metadata": {
        "id": "tCTuf5PIa6TV"
      },
      "source": [
        "dff['Release Clause'].head()\n",
        "dff['Release Clause'].dtypes\n"
      ],
      "execution_count": null,
      "outputs": []
    },
    {
      "cell_type": "code",
      "metadata": {
        "colab": {
          "base_uri": "https://localhost:8080/",
          "height": 232
        },
        "id": "jZ-XDEKwgGuk",
        "outputId": "b2f0b1e9-b191-4789-87fb-798bf0040db2"
      },
      "source": [
        "def str_to_int(rcn):\n",
        "  try:\n",
        "    return float (rcn[1:-1])*1000000\n",
        "  except:\n",
        "    return np.nan\n",
        "dff['Release Clause']=dff['Release Clause'].apply(str_to_int)\n",
        "dff['Release Clause'].dtypes\n",
        "dff['Release Clause'].isnull().sum()"
      ],
      "execution_count": null,
      "outputs": [
        {
          "output_type": "error",
          "ename": "NameError",
          "evalue": "ignored",
          "traceback": [
            "\u001b[0;31m---------------------------------------------------------------------------\u001b[0m",
            "\u001b[0;31mNameError\u001b[0m                                 Traceback (most recent call last)",
            "\u001b[0;32m<ipython-input-3-7fb972a94941>\u001b[0m in \u001b[0;36m<module>\u001b[0;34m()\u001b[0m\n\u001b[1;32m      4\u001b[0m   \u001b[0;32mexcept\u001b[0m\u001b[0;34m:\u001b[0m\u001b[0;34m\u001b[0m\u001b[0;34m\u001b[0m\u001b[0m\n\u001b[1;32m      5\u001b[0m     \u001b[0;32mreturn\u001b[0m \u001b[0mnp\u001b[0m\u001b[0;34m.\u001b[0m\u001b[0mnan\u001b[0m\u001b[0;34m\u001b[0m\u001b[0;34m\u001b[0m\u001b[0m\n\u001b[0;32m----> 6\u001b[0;31m \u001b[0mdff\u001b[0m\u001b[0;34m[\u001b[0m\u001b[0;34m'Release Clause'\u001b[0m\u001b[0;34m]\u001b[0m\u001b[0;34m=\u001b[0m\u001b[0mdff\u001b[0m\u001b[0;34m[\u001b[0m\u001b[0;34m'Release Clause'\u001b[0m\u001b[0;34m]\u001b[0m\u001b[0;34m.\u001b[0m\u001b[0mapply\u001b[0m\u001b[0;34m(\u001b[0m\u001b[0mstr_to_int\u001b[0m\u001b[0;34m)\u001b[0m\u001b[0;34m\u001b[0m\u001b[0;34m\u001b[0m\u001b[0m\n\u001b[0m\u001b[1;32m      7\u001b[0m \u001b[0mdff\u001b[0m\u001b[0;34m[\u001b[0m\u001b[0;34m'Release Clause'\u001b[0m\u001b[0;34m]\u001b[0m\u001b[0;34m.\u001b[0m\u001b[0mdtypes\u001b[0m\u001b[0;34m\u001b[0m\u001b[0;34m\u001b[0m\u001b[0m\n\u001b[1;32m      8\u001b[0m \u001b[0mdff\u001b[0m\u001b[0;34m[\u001b[0m\u001b[0;34m'Release Clause'\u001b[0m\u001b[0;34m]\u001b[0m\u001b[0;34m.\u001b[0m\u001b[0misnull\u001b[0m\u001b[0;34m(\u001b[0m\u001b[0;34m)\u001b[0m\u001b[0;34m.\u001b[0m\u001b[0msum\u001b[0m\u001b[0;34m(\u001b[0m\u001b[0;34m)\u001b[0m\u001b[0;34m\u001b[0m\u001b[0;34m\u001b[0m\u001b[0m\n",
            "\u001b[0;31mNameError\u001b[0m: name 'dff' is not defined"
          ]
        }
      ]
    },
    {
      "cell_type": "code",
      "metadata": {
        "colab": {
          "base_uri": "https://localhost:8080/",
          "height": 334
        },
        "id": "anh3DFOzhTOe",
        "outputId": "216a6935-368a-40a0-9780-b6f68e76b5ce"
      },
      "source": [
        "extracted_dff_cols = ['Crossing', 'Finishing', 'HeadingAccuracy', 'ShortPassing', 'Volleys', 'Dribbling', 'Curve', 'FKAccuracy', 'LongPassing', 'BallControl', 'Acceleration', 'SprintSpeed', 'Agility', 'Reactions', 'Balance', 'ShotPower', 'Jumping', 'Stamina', 'Strength', 'LongShots', 'Aggression', 'Interceptions', 'Positioning', 'Vision', 'Penalties', 'Composure', 'Marking', 'StandingTackle', 'SlidingTackle', 'GKDiving', 'GKHandling', 'GKKicking', 'GKPositioning', 'GKReflexes','Release Clause']\n",
        "extracted_dff=dff[extracted_dff_cols]\n",
        "extracted_dff.head()\n",
        "extracted_dff.isnull().sum()\n",
        "for col in extracted_dff_cols:\n",
        "  extracted_dff[col]=extracted_dff[col].fillna(extracted_dff[col].median())\n",
        "extracted_dff.isnull().sum()"
      ],
      "execution_count": null,
      "outputs": [
        {
          "output_type": "error",
          "ename": "NameError",
          "evalue": "ignored",
          "traceback": [
            "\u001b[0;31m---------------------------------------------------------------------------\u001b[0m",
            "\u001b[0;31mNameError\u001b[0m                                 Traceback (most recent call last)",
            "\u001b[0;32m<ipython-input-2-19c0e7af3ac1>\u001b[0m in \u001b[0;36m<module>\u001b[0;34m()\u001b[0m\n\u001b[1;32m      1\u001b[0m \u001b[0mextracted_dff_cols\u001b[0m \u001b[0;34m=\u001b[0m \u001b[0;34m[\u001b[0m\u001b[0;34m'Crossing'\u001b[0m\u001b[0;34m,\u001b[0m \u001b[0;34m'Finishing'\u001b[0m\u001b[0;34m,\u001b[0m \u001b[0;34m'HeadingAccuracy'\u001b[0m\u001b[0;34m,\u001b[0m \u001b[0;34m'ShortPassing'\u001b[0m\u001b[0;34m,\u001b[0m \u001b[0;34m'Volleys'\u001b[0m\u001b[0;34m,\u001b[0m \u001b[0;34m'Dribbling'\u001b[0m\u001b[0;34m,\u001b[0m \u001b[0;34m'Curve'\u001b[0m\u001b[0;34m,\u001b[0m \u001b[0;34m'FKAccuracy'\u001b[0m\u001b[0;34m,\u001b[0m \u001b[0;34m'LongPassing'\u001b[0m\u001b[0;34m,\u001b[0m \u001b[0;34m'BallControl'\u001b[0m\u001b[0;34m,\u001b[0m \u001b[0;34m'Acceleration'\u001b[0m\u001b[0;34m,\u001b[0m \u001b[0;34m'SprintSpeed'\u001b[0m\u001b[0;34m,\u001b[0m \u001b[0;34m'Agility'\u001b[0m\u001b[0;34m,\u001b[0m \u001b[0;34m'Reactions'\u001b[0m\u001b[0;34m,\u001b[0m \u001b[0;34m'Balance'\u001b[0m\u001b[0;34m,\u001b[0m \u001b[0;34m'ShotPower'\u001b[0m\u001b[0;34m,\u001b[0m \u001b[0;34m'Jumping'\u001b[0m\u001b[0;34m,\u001b[0m \u001b[0;34m'Stamina'\u001b[0m\u001b[0;34m,\u001b[0m \u001b[0;34m'Strength'\u001b[0m\u001b[0;34m,\u001b[0m \u001b[0;34m'LongShots'\u001b[0m\u001b[0;34m,\u001b[0m \u001b[0;34m'Aggression'\u001b[0m\u001b[0;34m,\u001b[0m \u001b[0;34m'Interceptions'\u001b[0m\u001b[0;34m,\u001b[0m \u001b[0;34m'Positioning'\u001b[0m\u001b[0;34m,\u001b[0m \u001b[0;34m'Vision'\u001b[0m\u001b[0;34m,\u001b[0m \u001b[0;34m'Penalties'\u001b[0m\u001b[0;34m,\u001b[0m \u001b[0;34m'Composure'\u001b[0m\u001b[0;34m,\u001b[0m \u001b[0;34m'Marking'\u001b[0m\u001b[0;34m,\u001b[0m \u001b[0;34m'StandingTackle'\u001b[0m\u001b[0;34m,\u001b[0m \u001b[0;34m'SlidingTackle'\u001b[0m\u001b[0;34m,\u001b[0m \u001b[0;34m'GKDiving'\u001b[0m\u001b[0;34m,\u001b[0m \u001b[0;34m'GKHandling'\u001b[0m\u001b[0;34m,\u001b[0m \u001b[0;34m'GKKicking'\u001b[0m\u001b[0;34m,\u001b[0m \u001b[0;34m'GKPositioning'\u001b[0m\u001b[0;34m,\u001b[0m \u001b[0;34m'GKReflexes'\u001b[0m\u001b[0;34m,\u001b[0m\u001b[0;34m'Release Clause'\u001b[0m\u001b[0;34m]\u001b[0m\u001b[0;34m\u001b[0m\u001b[0;34m\u001b[0m\u001b[0m\n\u001b[0;32m----> 2\u001b[0;31m \u001b[0mextracted_dff\u001b[0m\u001b[0;34m=\u001b[0m\u001b[0mdff\u001b[0m\u001b[0;34m[\u001b[0m\u001b[0mextracted_dff_cols\u001b[0m\u001b[0;34m]\u001b[0m\u001b[0;34m\u001b[0m\u001b[0;34m\u001b[0m\u001b[0m\n\u001b[0m\u001b[1;32m      3\u001b[0m \u001b[0mextracted_dff\u001b[0m\u001b[0;34m.\u001b[0m\u001b[0mhead\u001b[0m\u001b[0;34m(\u001b[0m\u001b[0;34m)\u001b[0m\u001b[0;34m\u001b[0m\u001b[0;34m\u001b[0m\u001b[0m\n\u001b[1;32m      4\u001b[0m \u001b[0mextracted_dff\u001b[0m\u001b[0;34m.\u001b[0m\u001b[0misnull\u001b[0m\u001b[0;34m(\u001b[0m\u001b[0;34m)\u001b[0m\u001b[0;34m.\u001b[0m\u001b[0msum\u001b[0m\u001b[0;34m(\u001b[0m\u001b[0;34m)\u001b[0m\u001b[0;34m\u001b[0m\u001b[0;34m\u001b[0m\u001b[0m\n\u001b[1;32m      5\u001b[0m \u001b[0;32mfor\u001b[0m \u001b[0mcol\u001b[0m \u001b[0;32min\u001b[0m \u001b[0mextracted_dff_cols\u001b[0m\u001b[0;34m:\u001b[0m\u001b[0;34m\u001b[0m\u001b[0;34m\u001b[0m\u001b[0m\n",
            "\u001b[0;31mNameError\u001b[0m: name 'dff' is not defined"
          ]
        }
      ]
    },
    {
      "cell_type": "code",
      "metadata": {
        "id": "uUPbwxlbid3B"
      },
      "source": [
        "x=extracted_dff_drop(['Release Clause'],axis=1)\n",
        "x.shape"
      ],
      "execution_count": null,
      "outputs": []
    },
    {
      "cell_type": "code",
      "metadata": {
        "id": "F0oopLJPke_s"
      },
      "source": [
        "dff['Total_skill'] = dff['Crossing']+ dff['Finishing']+ dff['HeadingAccuracy']+dff ['ShortPassing']+dff ['Volleys']+dff['Dribbling']+dff ['Curve']+dff ['FKAccuracy']+dff ['LongPassing']+dff ['BallControl']+dff ['Acceleration']+dff ['SprintSpeed']+ dff['Agility']+dff ['Reactions']+dff ['Balance']+dff['ShotPower']+dff['Jumping']+dff ['Stamina']+ dff['Strength']+dff ['LongShots']+dff ['Aggression']+ dff['Interceptions']+ dff['Positioning']+dff ['Vision']+dff ['Penalties']+dff ['Composure']+dff ['Marking']+dff ['StandingTackle']+ dff['SlidingTackle']+ dff['GKDiving']+dff ['GKHandling']+ dff['GKKicking']+dff ['GKPositioning']+ dff['GKReflexes']\n",
        "dff.head()"
      ],
      "execution_count": null,
      "outputs": []
    },
    {
      "cell_type": "code",
      "metadata": {
        "id": "eh80Puefndzb"
      },
      "source": [
        "dff['Joined'].dtypes\n",
        "dff['Joined'].head()\n",
        "import datetime\n",
        "def data_str_to_datetime_1(date_str):\n",
        "  try:\n",
        "    return datetime.datetime.strptime(data_str, '%b %d,%y')\n",
        "  except:\n",
        "    return np.nan\n",
        "dff['Joined']=dff['Joined'].apply(data_str_to_datetime_1)\n",
        "dff['Joined'].head()"
      ],
      "execution_count": null,
      "outputs": []
    },
    {
      "cell_type": "code",
      "metadata": {
        "id": "mA2TV3Zmp1j8"
      },
      "source": [
        "dff['Contract Valid Until'].dtypes\n",
        "dff['Contract Valid Until'].value_counts()"
      ],
      "execution_count": null,
      "outputs": []
    },
    {
      "cell_type": "code",
      "metadata": {
        "id": "hg-LqBrNqQYk"
      },
      "source": [
        "def data_str_to_datetime_2(date_str):\n",
        "    try:\n",
        "        if date_str.find(',') != -1:\n",
        "            curr_date = datetime.datetime.strptime(date_str, '%b %d, %Y')\n",
        "            return curr_date.strftime(\"%Y\")\n",
        "        elif date_str.find(',') == -1:\n",
        "            curr_date = datetime.datetime.strptime(date_str, '%Y')\n",
        "            return curr_date.strftime(\"%Y\")\n",
        "    except:\n",
        "        return np.nan\n",
        "dff['Contract Valid Until'] = dff['Contract Valid Until'].apply(data_str_to_datetime_2)\n",
        "dff['Contract Valid Until'].dtypes\n",
        "dff['Contract Valid Until'].value_counts()"
      ],
      "execution_count": null,
      "outputs": []
    },
    {
      "cell_type": "code",
      "metadata": {
        "id": "0tRWEsMSrORp"
      },
      "source": [
        "dff.head()\n",
        "dff.Club.isnull().sum()\n",
        "dff.Club.fillna('Unknown',inplace=True)\n",
        "dff.Club.isnull().sum()\n",
        "\n",
        "from sklearn import preprocessing\n",
        "label_encoder=preprocessing.LabelEncoder()\n",
        "label_encoder.fit(dff['Club'])\n",
        "dff['Club']=label_encoder.transform(dff['Club'])\n",
        "dff.head()"
      ],
      "execution_count": null,
      "outputs": []
    },
    {
      "cell_type": "code",
      "metadata": {
        "id": "3p6sFW3TyTHL"
      },
      "source": [
        "dff['Position'].value_counts()\n",
        "dff['Position'].isnull().sum()\n",
        "dff['Position'].fillna('Unknown',inplace=True)\n",
        "dff['Position'].isnull().sum()\n",
        "len(dff['Position'].value_counts())\n",
        "dff.shape"
      ],
      "execution_count": null,
      "outputs": []
    },
    {
      "cell_type": "code",
      "metadata": {
        "id": "3j5o4RGBwp4m"
      },
      "source": [
        "encoded_columns=pd.get_dummies(dff.Position)\n",
        "encoded_columns.shape\n",
        "dff=dff.join(encoded_columns).drop('Position',axis=1)\n",
        "dff.head()\n",
        "dff.shape"
      ],
      "execution_count": null,
      "outputs": []
    },
    {
      "cell_type": "code",
      "metadata": {
        "colab": {
          "base_uri": "https://localhost:8080/",
          "height": 643
        },
        "id": "-MiBFTvX04-F",
        "outputId": "cd81461a-9b99-44f8-e545-880a18b21c55"
      },
      "source": [
        "dff"
      ],
      "execution_count": null,
      "outputs": [
        {
          "output_type": "execute_result",
          "data": {
            "text/html": [
              "<div>\n",
              "<style scoped>\n",
              "    .dataframe tbody tr th:only-of-type {\n",
              "        vertical-align: middle;\n",
              "    }\n",
              "\n",
              "    .dataframe tbody tr th {\n",
              "        vertical-align: top;\n",
              "    }\n",
              "\n",
              "    .dataframe thead th {\n",
              "        text-align: right;\n",
              "    }\n",
              "</style>\n",
              "<table border=\"1\" class=\"dataframe\">\n",
              "  <thead>\n",
              "    <tr style=\"text-align: right;\">\n",
              "      <th></th>\n",
              "      <th>ID</th>\n",
              "      <th>Name</th>\n",
              "      <th>Age</th>\n",
              "      <th>Photo</th>\n",
              "      <th>Nationality</th>\n",
              "      <th>Flag</th>\n",
              "      <th>Overall</th>\n",
              "      <th>Potential</th>\n",
              "      <th>Club</th>\n",
              "      <th>Club Logo</th>\n",
              "      <th>Value</th>\n",
              "      <th>Wage</th>\n",
              "      <th>Special</th>\n",
              "      <th>Preferred Foot</th>\n",
              "      <th>International Reputation</th>\n",
              "      <th>Weak Foot</th>\n",
              "      <th>Skill Moves</th>\n",
              "      <th>Work Rate</th>\n",
              "      <th>Body Type</th>\n",
              "      <th>Real Face</th>\n",
              "      <th>Jersey Number</th>\n",
              "      <th>Joined</th>\n",
              "      <th>Contract Valid Until</th>\n",
              "      <th>Height</th>\n",
              "      <th>Weight</th>\n",
              "      <th>Crossing</th>\n",
              "      <th>Finishing</th>\n",
              "      <th>HeadingAccuracy</th>\n",
              "      <th>ShortPassing</th>\n",
              "      <th>Volleys</th>\n",
              "      <th>Dribbling</th>\n",
              "      <th>Curve</th>\n",
              "      <th>FKAccuracy</th>\n",
              "      <th>LongPassing</th>\n",
              "      <th>BallControl</th>\n",
              "      <th>Acceleration</th>\n",
              "      <th>SprintSpeed</th>\n",
              "      <th>Agility</th>\n",
              "      <th>Reactions</th>\n",
              "      <th>Balance</th>\n",
              "      <th>...</th>\n",
              "      <th>Penalties</th>\n",
              "      <th>Composure</th>\n",
              "      <th>Marking</th>\n",
              "      <th>StandingTackle</th>\n",
              "      <th>SlidingTackle</th>\n",
              "      <th>GKDiving</th>\n",
              "      <th>GKHandling</th>\n",
              "      <th>GKKicking</th>\n",
              "      <th>GKPositioning</th>\n",
              "      <th>GKReflexes</th>\n",
              "      <th>Release Clause</th>\n",
              "      <th>Total_skill</th>\n",
              "      <th>CAM</th>\n",
              "      <th>CB</th>\n",
              "      <th>CDM</th>\n",
              "      <th>CF</th>\n",
              "      <th>CM</th>\n",
              "      <th>GK</th>\n",
              "      <th>LAM</th>\n",
              "      <th>LB</th>\n",
              "      <th>LCB</th>\n",
              "      <th>LCM</th>\n",
              "      <th>LDM</th>\n",
              "      <th>LF</th>\n",
              "      <th>LM</th>\n",
              "      <th>LS</th>\n",
              "      <th>LW</th>\n",
              "      <th>LWB</th>\n",
              "      <th>RAM</th>\n",
              "      <th>RB</th>\n",
              "      <th>RCB</th>\n",
              "      <th>RCM</th>\n",
              "      <th>RDM</th>\n",
              "      <th>RF</th>\n",
              "      <th>RM</th>\n",
              "      <th>RS</th>\n",
              "      <th>RW</th>\n",
              "      <th>RWB</th>\n",
              "      <th>ST</th>\n",
              "      <th>Unknown</th>\n",
              "    </tr>\n",
              "  </thead>\n",
              "  <tbody>\n",
              "    <tr>\n",
              "      <th>0</th>\n",
              "      <td>158023</td>\n",
              "      <td>L. Messi</td>\n",
              "      <td>31</td>\n",
              "      <td>https://cdn.sofifa.org/players/4/19/158023.png</td>\n",
              "      <td>Argentina</td>\n",
              "      <td>https://cdn.sofifa.org/flags/52.png</td>\n",
              "      <td>94</td>\n",
              "      <td>94</td>\n",
              "      <td>212</td>\n",
              "      <td>https://cdn.sofifa.org/teams/2/light/241.png</td>\n",
              "      <td>€110.5M</td>\n",
              "      <td>€565K</td>\n",
              "      <td>2202</td>\n",
              "      <td>Left</td>\n",
              "      <td>5.0</td>\n",
              "      <td>4.0</td>\n",
              "      <td>4.0</td>\n",
              "      <td>Medium/ Medium</td>\n",
              "      <td>Messi</td>\n",
              "      <td>Yes</td>\n",
              "      <td>10.0</td>\n",
              "      <td>NaN</td>\n",
              "      <td>2021</td>\n",
              "      <td>5'7</td>\n",
              "      <td>159lbs</td>\n",
              "      <td>84.0</td>\n",
              "      <td>95.0</td>\n",
              "      <td>70.0</td>\n",
              "      <td>90.0</td>\n",
              "      <td>86.0</td>\n",
              "      <td>97.0</td>\n",
              "      <td>93.0</td>\n",
              "      <td>94.0</td>\n",
              "      <td>87.0</td>\n",
              "      <td>96.0</td>\n",
              "      <td>91.0</td>\n",
              "      <td>86.0</td>\n",
              "      <td>91.0</td>\n",
              "      <td>95.0</td>\n",
              "      <td>95.0</td>\n",
              "      <td>...</td>\n",
              "      <td>75.0</td>\n",
              "      <td>96.0</td>\n",
              "      <td>33.0</td>\n",
              "      <td>28.0</td>\n",
              "      <td>26.0</td>\n",
              "      <td>6.0</td>\n",
              "      <td>11.0</td>\n",
              "      <td>15.0</td>\n",
              "      <td>14.0</td>\n",
              "      <td>8.0</td>\n",
              "      <td>NaN</td>\n",
              "      <td>2298.0</td>\n",
              "      <td>0</td>\n",
              "      <td>0</td>\n",
              "      <td>0</td>\n",
              "      <td>0</td>\n",
              "      <td>0</td>\n",
              "      <td>0</td>\n",
              "      <td>0</td>\n",
              "      <td>0</td>\n",
              "      <td>0</td>\n",
              "      <td>0</td>\n",
              "      <td>0</td>\n",
              "      <td>0</td>\n",
              "      <td>0</td>\n",
              "      <td>0</td>\n",
              "      <td>0</td>\n",
              "      <td>0</td>\n",
              "      <td>0</td>\n",
              "      <td>0</td>\n",
              "      <td>0</td>\n",
              "      <td>0</td>\n",
              "      <td>0</td>\n",
              "      <td>1</td>\n",
              "      <td>0</td>\n",
              "      <td>0</td>\n",
              "      <td>0</td>\n",
              "      <td>0</td>\n",
              "      <td>0</td>\n",
              "      <td>0</td>\n",
              "    </tr>\n",
              "    <tr>\n",
              "      <th>1</th>\n",
              "      <td>20801</td>\n",
              "      <td>Cristiano Ronaldo</td>\n",
              "      <td>33</td>\n",
              "      <td>https://cdn.sofifa.org/players/4/19/20801.png</td>\n",
              "      <td>Portugal</td>\n",
              "      <td>https://cdn.sofifa.org/flags/38.png</td>\n",
              "      <td>94</td>\n",
              "      <td>94</td>\n",
              "      <td>326</td>\n",
              "      <td>https://cdn.sofifa.org/teams/2/light/45.png</td>\n",
              "      <td>€77M</td>\n",
              "      <td>€405K</td>\n",
              "      <td>2228</td>\n",
              "      <td>Right</td>\n",
              "      <td>5.0</td>\n",
              "      <td>4.0</td>\n",
              "      <td>5.0</td>\n",
              "      <td>High/ Low</td>\n",
              "      <td>C. Ronaldo</td>\n",
              "      <td>Yes</td>\n",
              "      <td>7.0</td>\n",
              "      <td>NaN</td>\n",
              "      <td>2022</td>\n",
              "      <td>6'2</td>\n",
              "      <td>183lbs</td>\n",
              "      <td>84.0</td>\n",
              "      <td>94.0</td>\n",
              "      <td>89.0</td>\n",
              "      <td>81.0</td>\n",
              "      <td>87.0</td>\n",
              "      <td>88.0</td>\n",
              "      <td>81.0</td>\n",
              "      <td>76.0</td>\n",
              "      <td>77.0</td>\n",
              "      <td>94.0</td>\n",
              "      <td>89.0</td>\n",
              "      <td>91.0</td>\n",
              "      <td>87.0</td>\n",
              "      <td>96.0</td>\n",
              "      <td>70.0</td>\n",
              "      <td>...</td>\n",
              "      <td>85.0</td>\n",
              "      <td>95.0</td>\n",
              "      <td>28.0</td>\n",
              "      <td>31.0</td>\n",
              "      <td>23.0</td>\n",
              "      <td>7.0</td>\n",
              "      <td>11.0</td>\n",
              "      <td>15.0</td>\n",
              "      <td>14.0</td>\n",
              "      <td>11.0</td>\n",
              "      <td>NaN</td>\n",
              "      <td>2323.0</td>\n",
              "      <td>0</td>\n",
              "      <td>0</td>\n",
              "      <td>0</td>\n",
              "      <td>0</td>\n",
              "      <td>0</td>\n",
              "      <td>0</td>\n",
              "      <td>0</td>\n",
              "      <td>0</td>\n",
              "      <td>0</td>\n",
              "      <td>0</td>\n",
              "      <td>0</td>\n",
              "      <td>0</td>\n",
              "      <td>0</td>\n",
              "      <td>0</td>\n",
              "      <td>0</td>\n",
              "      <td>0</td>\n",
              "      <td>0</td>\n",
              "      <td>0</td>\n",
              "      <td>0</td>\n",
              "      <td>0</td>\n",
              "      <td>0</td>\n",
              "      <td>0</td>\n",
              "      <td>0</td>\n",
              "      <td>0</td>\n",
              "      <td>0</td>\n",
              "      <td>0</td>\n",
              "      <td>1</td>\n",
              "      <td>0</td>\n",
              "    </tr>\n",
              "    <tr>\n",
              "      <th>2</th>\n",
              "      <td>190871</td>\n",
              "      <td>Neymar Jr</td>\n",
              "      <td>26</td>\n",
              "      <td>https://cdn.sofifa.org/players/4/19/190871.png</td>\n",
              "      <td>Brazil</td>\n",
              "      <td>https://cdn.sofifa.org/flags/54.png</td>\n",
              "      <td>92</td>\n",
              "      <td>93</td>\n",
              "      <td>435</td>\n",
              "      <td>https://cdn.sofifa.org/teams/2/light/73.png</td>\n",
              "      <td>€118.5M</td>\n",
              "      <td>€290K</td>\n",
              "      <td>2143</td>\n",
              "      <td>Right</td>\n",
              "      <td>5.0</td>\n",
              "      <td>5.0</td>\n",
              "      <td>5.0</td>\n",
              "      <td>High/ Medium</td>\n",
              "      <td>Neymar</td>\n",
              "      <td>Yes</td>\n",
              "      <td>10.0</td>\n",
              "      <td>NaN</td>\n",
              "      <td>2022</td>\n",
              "      <td>5'9</td>\n",
              "      <td>150lbs</td>\n",
              "      <td>79.0</td>\n",
              "      <td>87.0</td>\n",
              "      <td>62.0</td>\n",
              "      <td>84.0</td>\n",
              "      <td>84.0</td>\n",
              "      <td>96.0</td>\n",
              "      <td>88.0</td>\n",
              "      <td>87.0</td>\n",
              "      <td>78.0</td>\n",
              "      <td>95.0</td>\n",
              "      <td>94.0</td>\n",
              "      <td>90.0</td>\n",
              "      <td>96.0</td>\n",
              "      <td>94.0</td>\n",
              "      <td>84.0</td>\n",
              "      <td>...</td>\n",
              "      <td>81.0</td>\n",
              "      <td>94.0</td>\n",
              "      <td>27.0</td>\n",
              "      <td>24.0</td>\n",
              "      <td>33.0</td>\n",
              "      <td>9.0</td>\n",
              "      <td>9.0</td>\n",
              "      <td>15.0</td>\n",
              "      <td>15.0</td>\n",
              "      <td>11.0</td>\n",
              "      <td>NaN</td>\n",
              "      <td>2237.0</td>\n",
              "      <td>0</td>\n",
              "      <td>0</td>\n",
              "      <td>0</td>\n",
              "      <td>0</td>\n",
              "      <td>0</td>\n",
              "      <td>0</td>\n",
              "      <td>0</td>\n",
              "      <td>0</td>\n",
              "      <td>0</td>\n",
              "      <td>0</td>\n",
              "      <td>0</td>\n",
              "      <td>0</td>\n",
              "      <td>0</td>\n",
              "      <td>0</td>\n",
              "      <td>1</td>\n",
              "      <td>0</td>\n",
              "      <td>0</td>\n",
              "      <td>0</td>\n",
              "      <td>0</td>\n",
              "      <td>0</td>\n",
              "      <td>0</td>\n",
              "      <td>0</td>\n",
              "      <td>0</td>\n",
              "      <td>0</td>\n",
              "      <td>0</td>\n",
              "      <td>0</td>\n",
              "      <td>0</td>\n",
              "      <td>0</td>\n",
              "    </tr>\n",
              "    <tr>\n",
              "      <th>3</th>\n",
              "      <td>193080</td>\n",
              "      <td>De Gea</td>\n",
              "      <td>27</td>\n",
              "      <td>https://cdn.sofifa.org/players/4/19/193080.png</td>\n",
              "      <td>Spain</td>\n",
              "      <td>https://cdn.sofifa.org/flags/45.png</td>\n",
              "      <td>91</td>\n",
              "      <td>93</td>\n",
              "      <td>375</td>\n",
              "      <td>https://cdn.sofifa.org/teams/2/light/11.png</td>\n",
              "      <td>€72M</td>\n",
              "      <td>€260K</td>\n",
              "      <td>1471</td>\n",
              "      <td>Right</td>\n",
              "      <td>4.0</td>\n",
              "      <td>3.0</td>\n",
              "      <td>1.0</td>\n",
              "      <td>Medium/ Medium</td>\n",
              "      <td>Lean</td>\n",
              "      <td>Yes</td>\n",
              "      <td>1.0</td>\n",
              "      <td>NaN</td>\n",
              "      <td>2020</td>\n",
              "      <td>6'4</td>\n",
              "      <td>168lbs</td>\n",
              "      <td>17.0</td>\n",
              "      <td>13.0</td>\n",
              "      <td>21.0</td>\n",
              "      <td>50.0</td>\n",
              "      <td>13.0</td>\n",
              "      <td>18.0</td>\n",
              "      <td>21.0</td>\n",
              "      <td>19.0</td>\n",
              "      <td>51.0</td>\n",
              "      <td>42.0</td>\n",
              "      <td>57.0</td>\n",
              "      <td>58.0</td>\n",
              "      <td>60.0</td>\n",
              "      <td>90.0</td>\n",
              "      <td>43.0</td>\n",
              "      <td>...</td>\n",
              "      <td>40.0</td>\n",
              "      <td>68.0</td>\n",
              "      <td>15.0</td>\n",
              "      <td>21.0</td>\n",
              "      <td>13.0</td>\n",
              "      <td>90.0</td>\n",
              "      <td>85.0</td>\n",
              "      <td>87.0</td>\n",
              "      <td>88.0</td>\n",
              "      <td>94.0</td>\n",
              "      <td>NaN</td>\n",
              "      <td>1539.0</td>\n",
              "      <td>0</td>\n",
              "      <td>0</td>\n",
              "      <td>0</td>\n",
              "      <td>0</td>\n",
              "      <td>0</td>\n",
              "      <td>1</td>\n",
              "      <td>0</td>\n",
              "      <td>0</td>\n",
              "      <td>0</td>\n",
              "      <td>0</td>\n",
              "      <td>0</td>\n",
              "      <td>0</td>\n",
              "      <td>0</td>\n",
              "      <td>0</td>\n",
              "      <td>0</td>\n",
              "      <td>0</td>\n",
              "      <td>0</td>\n",
              "      <td>0</td>\n",
              "      <td>0</td>\n",
              "      <td>0</td>\n",
              "      <td>0</td>\n",
              "      <td>0</td>\n",
              "      <td>0</td>\n",
              "      <td>0</td>\n",
              "      <td>0</td>\n",
              "      <td>0</td>\n",
              "      <td>0</td>\n",
              "      <td>0</td>\n",
              "    </tr>\n",
              "    <tr>\n",
              "      <th>4</th>\n",
              "      <td>192985</td>\n",
              "      <td>K. De Bruyne</td>\n",
              "      <td>27</td>\n",
              "      <td>https://cdn.sofifa.org/players/4/19/192985.png</td>\n",
              "      <td>Belgium</td>\n",
              "      <td>https://cdn.sofifa.org/flags/7.png</td>\n",
              "      <td>91</td>\n",
              "      <td>92</td>\n",
              "      <td>374</td>\n",
              "      <td>https://cdn.sofifa.org/teams/2/light/10.png</td>\n",
              "      <td>€102M</td>\n",
              "      <td>€355K</td>\n",
              "      <td>2281</td>\n",
              "      <td>Right</td>\n",
              "      <td>4.0</td>\n",
              "      <td>5.0</td>\n",
              "      <td>4.0</td>\n",
              "      <td>High/ High</td>\n",
              "      <td>Normal</td>\n",
              "      <td>Yes</td>\n",
              "      <td>7.0</td>\n",
              "      <td>NaN</td>\n",
              "      <td>2023</td>\n",
              "      <td>5'11</td>\n",
              "      <td>154lbs</td>\n",
              "      <td>93.0</td>\n",
              "      <td>82.0</td>\n",
              "      <td>55.0</td>\n",
              "      <td>92.0</td>\n",
              "      <td>82.0</td>\n",
              "      <td>86.0</td>\n",
              "      <td>85.0</td>\n",
              "      <td>83.0</td>\n",
              "      <td>91.0</td>\n",
              "      <td>91.0</td>\n",
              "      <td>78.0</td>\n",
              "      <td>76.0</td>\n",
              "      <td>79.0</td>\n",
              "      <td>91.0</td>\n",
              "      <td>77.0</td>\n",
              "      <td>...</td>\n",
              "      <td>79.0</td>\n",
              "      <td>88.0</td>\n",
              "      <td>68.0</td>\n",
              "      <td>58.0</td>\n",
              "      <td>51.0</td>\n",
              "      <td>15.0</td>\n",
              "      <td>13.0</td>\n",
              "      <td>5.0</td>\n",
              "      <td>10.0</td>\n",
              "      <td>13.0</td>\n",
              "      <td>NaN</td>\n",
              "      <td>2369.0</td>\n",
              "      <td>0</td>\n",
              "      <td>0</td>\n",
              "      <td>0</td>\n",
              "      <td>0</td>\n",
              "      <td>0</td>\n",
              "      <td>0</td>\n",
              "      <td>0</td>\n",
              "      <td>0</td>\n",
              "      <td>0</td>\n",
              "      <td>0</td>\n",
              "      <td>0</td>\n",
              "      <td>0</td>\n",
              "      <td>0</td>\n",
              "      <td>0</td>\n",
              "      <td>0</td>\n",
              "      <td>0</td>\n",
              "      <td>0</td>\n",
              "      <td>0</td>\n",
              "      <td>0</td>\n",
              "      <td>1</td>\n",
              "      <td>0</td>\n",
              "      <td>0</td>\n",
              "      <td>0</td>\n",
              "      <td>0</td>\n",
              "      <td>0</td>\n",
              "      <td>0</td>\n",
              "      <td>0</td>\n",
              "      <td>0</td>\n",
              "    </tr>\n",
              "    <tr>\n",
              "      <th>...</th>\n",
              "      <td>...</td>\n",
              "      <td>...</td>\n",
              "      <td>...</td>\n",
              "      <td>...</td>\n",
              "      <td>...</td>\n",
              "      <td>...</td>\n",
              "      <td>...</td>\n",
              "      <td>...</td>\n",
              "      <td>...</td>\n",
              "      <td>...</td>\n",
              "      <td>...</td>\n",
              "      <td>...</td>\n",
              "      <td>...</td>\n",
              "      <td>...</td>\n",
              "      <td>...</td>\n",
              "      <td>...</td>\n",
              "      <td>...</td>\n",
              "      <td>...</td>\n",
              "      <td>...</td>\n",
              "      <td>...</td>\n",
              "      <td>...</td>\n",
              "      <td>...</td>\n",
              "      <td>...</td>\n",
              "      <td>...</td>\n",
              "      <td>...</td>\n",
              "      <td>...</td>\n",
              "      <td>...</td>\n",
              "      <td>...</td>\n",
              "      <td>...</td>\n",
              "      <td>...</td>\n",
              "      <td>...</td>\n",
              "      <td>...</td>\n",
              "      <td>...</td>\n",
              "      <td>...</td>\n",
              "      <td>...</td>\n",
              "      <td>...</td>\n",
              "      <td>...</td>\n",
              "      <td>...</td>\n",
              "      <td>...</td>\n",
              "      <td>...</td>\n",
              "      <td>...</td>\n",
              "      <td>...</td>\n",
              "      <td>...</td>\n",
              "      <td>...</td>\n",
              "      <td>...</td>\n",
              "      <td>...</td>\n",
              "      <td>...</td>\n",
              "      <td>...</td>\n",
              "      <td>...</td>\n",
              "      <td>...</td>\n",
              "      <td>...</td>\n",
              "      <td>...</td>\n",
              "      <td>...</td>\n",
              "      <td>...</td>\n",
              "      <td>...</td>\n",
              "      <td>...</td>\n",
              "      <td>...</td>\n",
              "      <td>...</td>\n",
              "      <td>...</td>\n",
              "      <td>...</td>\n",
              "      <td>...</td>\n",
              "      <td>...</td>\n",
              "      <td>...</td>\n",
              "      <td>...</td>\n",
              "      <td>...</td>\n",
              "      <td>...</td>\n",
              "      <td>...</td>\n",
              "      <td>...</td>\n",
              "      <td>...</td>\n",
              "      <td>...</td>\n",
              "      <td>...</td>\n",
              "      <td>...</td>\n",
              "      <td>...</td>\n",
              "      <td>...</td>\n",
              "      <td>...</td>\n",
              "      <td>...</td>\n",
              "      <td>...</td>\n",
              "      <td>...</td>\n",
              "      <td>...</td>\n",
              "      <td>...</td>\n",
              "      <td>...</td>\n",
              "    </tr>\n",
              "    <tr>\n",
              "      <th>18202</th>\n",
              "      <td>238813</td>\n",
              "      <td>J. Lundstram</td>\n",
              "      <td>19</td>\n",
              "      <td>https://cdn.sofifa.org/players/4/19/238813.png</td>\n",
              "      <td>England</td>\n",
              "      <td>https://cdn.sofifa.org/flags/14.png</td>\n",
              "      <td>47</td>\n",
              "      <td>65</td>\n",
              "      <td>165</td>\n",
              "      <td>https://cdn.sofifa.org/teams/2/light/121.png</td>\n",
              "      <td>€60K</td>\n",
              "      <td>€1K</td>\n",
              "      <td>1307</td>\n",
              "      <td>Right</td>\n",
              "      <td>1.0</td>\n",
              "      <td>2.0</td>\n",
              "      <td>2.0</td>\n",
              "      <td>Medium/ Medium</td>\n",
              "      <td>Lean</td>\n",
              "      <td>No</td>\n",
              "      <td>22.0</td>\n",
              "      <td>NaN</td>\n",
              "      <td>2019</td>\n",
              "      <td>5'9</td>\n",
              "      <td>134lbs</td>\n",
              "      <td>34.0</td>\n",
              "      <td>38.0</td>\n",
              "      <td>40.0</td>\n",
              "      <td>49.0</td>\n",
              "      <td>25.0</td>\n",
              "      <td>42.0</td>\n",
              "      <td>30.0</td>\n",
              "      <td>34.0</td>\n",
              "      <td>45.0</td>\n",
              "      <td>43.0</td>\n",
              "      <td>54.0</td>\n",
              "      <td>57.0</td>\n",
              "      <td>60.0</td>\n",
              "      <td>49.0</td>\n",
              "      <td>76.0</td>\n",
              "      <td>...</td>\n",
              "      <td>43.0</td>\n",
              "      <td>45.0</td>\n",
              "      <td>40.0</td>\n",
              "      <td>48.0</td>\n",
              "      <td>47.0</td>\n",
              "      <td>10.0</td>\n",
              "      <td>13.0</td>\n",
              "      <td>7.0</td>\n",
              "      <td>8.0</td>\n",
              "      <td>9.0</td>\n",
              "      <td>NaN</td>\n",
              "      <td>1352.0</td>\n",
              "      <td>0</td>\n",
              "      <td>0</td>\n",
              "      <td>0</td>\n",
              "      <td>0</td>\n",
              "      <td>1</td>\n",
              "      <td>0</td>\n",
              "      <td>0</td>\n",
              "      <td>0</td>\n",
              "      <td>0</td>\n",
              "      <td>0</td>\n",
              "      <td>0</td>\n",
              "      <td>0</td>\n",
              "      <td>0</td>\n",
              "      <td>0</td>\n",
              "      <td>0</td>\n",
              "      <td>0</td>\n",
              "      <td>0</td>\n",
              "      <td>0</td>\n",
              "      <td>0</td>\n",
              "      <td>0</td>\n",
              "      <td>0</td>\n",
              "      <td>0</td>\n",
              "      <td>0</td>\n",
              "      <td>0</td>\n",
              "      <td>0</td>\n",
              "      <td>0</td>\n",
              "      <td>0</td>\n",
              "      <td>0</td>\n",
              "    </tr>\n",
              "    <tr>\n",
              "      <th>18203</th>\n",
              "      <td>243165</td>\n",
              "      <td>N. Christoffersson</td>\n",
              "      <td>19</td>\n",
              "      <td>https://cdn.sofifa.org/players/4/19/243165.png</td>\n",
              "      <td>Sweden</td>\n",
              "      <td>https://cdn.sofifa.org/flags/46.png</td>\n",
              "      <td>47</td>\n",
              "      <td>63</td>\n",
              "      <td>587</td>\n",
              "      <td>https://cdn.sofifa.org/teams/2/light/703.png</td>\n",
              "      <td>€60K</td>\n",
              "      <td>€1K</td>\n",
              "      <td>1098</td>\n",
              "      <td>Right</td>\n",
              "      <td>1.0</td>\n",
              "      <td>2.0</td>\n",
              "      <td>2.0</td>\n",
              "      <td>Medium/ Medium</td>\n",
              "      <td>Normal</td>\n",
              "      <td>No</td>\n",
              "      <td>21.0</td>\n",
              "      <td>NaN</td>\n",
              "      <td>2020</td>\n",
              "      <td>6'3</td>\n",
              "      <td>170lbs</td>\n",
              "      <td>23.0</td>\n",
              "      <td>52.0</td>\n",
              "      <td>52.0</td>\n",
              "      <td>43.0</td>\n",
              "      <td>36.0</td>\n",
              "      <td>39.0</td>\n",
              "      <td>32.0</td>\n",
              "      <td>20.0</td>\n",
              "      <td>25.0</td>\n",
              "      <td>40.0</td>\n",
              "      <td>41.0</td>\n",
              "      <td>39.0</td>\n",
              "      <td>38.0</td>\n",
              "      <td>40.0</td>\n",
              "      <td>52.0</td>\n",
              "      <td>...</td>\n",
              "      <td>43.0</td>\n",
              "      <td>42.0</td>\n",
              "      <td>22.0</td>\n",
              "      <td>15.0</td>\n",
              "      <td>19.0</td>\n",
              "      <td>10.0</td>\n",
              "      <td>9.0</td>\n",
              "      <td>9.0</td>\n",
              "      <td>5.0</td>\n",
              "      <td>12.0</td>\n",
              "      <td>NaN</td>\n",
              "      <td>1140.0</td>\n",
              "      <td>0</td>\n",
              "      <td>0</td>\n",
              "      <td>0</td>\n",
              "      <td>0</td>\n",
              "      <td>0</td>\n",
              "      <td>0</td>\n",
              "      <td>0</td>\n",
              "      <td>0</td>\n",
              "      <td>0</td>\n",
              "      <td>0</td>\n",
              "      <td>0</td>\n",
              "      <td>0</td>\n",
              "      <td>0</td>\n",
              "      <td>0</td>\n",
              "      <td>0</td>\n",
              "      <td>0</td>\n",
              "      <td>0</td>\n",
              "      <td>0</td>\n",
              "      <td>0</td>\n",
              "      <td>0</td>\n",
              "      <td>0</td>\n",
              "      <td>0</td>\n",
              "      <td>0</td>\n",
              "      <td>0</td>\n",
              "      <td>0</td>\n",
              "      <td>0</td>\n",
              "      <td>1</td>\n",
              "      <td>0</td>\n",
              "    </tr>\n",
              "    <tr>\n",
              "      <th>18204</th>\n",
              "      <td>241638</td>\n",
              "      <td>B. Worman</td>\n",
              "      <td>16</td>\n",
              "      <td>https://cdn.sofifa.org/players/4/19/241638.png</td>\n",
              "      <td>England</td>\n",
              "      <td>https://cdn.sofifa.org/flags/14.png</td>\n",
              "      <td>47</td>\n",
              "      <td>67</td>\n",
              "      <td>122</td>\n",
              "      <td>https://cdn.sofifa.org/teams/2/light/1944.png</td>\n",
              "      <td>€60K</td>\n",
              "      <td>€1K</td>\n",
              "      <td>1189</td>\n",
              "      <td>Right</td>\n",
              "      <td>1.0</td>\n",
              "      <td>3.0</td>\n",
              "      <td>2.0</td>\n",
              "      <td>Medium/ Medium</td>\n",
              "      <td>Normal</td>\n",
              "      <td>No</td>\n",
              "      <td>33.0</td>\n",
              "      <td>NaN</td>\n",
              "      <td>2021</td>\n",
              "      <td>5'8</td>\n",
              "      <td>148lbs</td>\n",
              "      <td>25.0</td>\n",
              "      <td>40.0</td>\n",
              "      <td>46.0</td>\n",
              "      <td>38.0</td>\n",
              "      <td>38.0</td>\n",
              "      <td>45.0</td>\n",
              "      <td>38.0</td>\n",
              "      <td>27.0</td>\n",
              "      <td>28.0</td>\n",
              "      <td>44.0</td>\n",
              "      <td>70.0</td>\n",
              "      <td>69.0</td>\n",
              "      <td>50.0</td>\n",
              "      <td>47.0</td>\n",
              "      <td>58.0</td>\n",
              "      <td>...</td>\n",
              "      <td>55.0</td>\n",
              "      <td>41.0</td>\n",
              "      <td>32.0</td>\n",
              "      <td>13.0</td>\n",
              "      <td>11.0</td>\n",
              "      <td>6.0</td>\n",
              "      <td>5.0</td>\n",
              "      <td>10.0</td>\n",
              "      <td>6.0</td>\n",
              "      <td>13.0</td>\n",
              "      <td>NaN</td>\n",
              "      <td>1230.0</td>\n",
              "      <td>0</td>\n",
              "      <td>0</td>\n",
              "      <td>0</td>\n",
              "      <td>0</td>\n",
              "      <td>0</td>\n",
              "      <td>0</td>\n",
              "      <td>0</td>\n",
              "      <td>0</td>\n",
              "      <td>0</td>\n",
              "      <td>0</td>\n",
              "      <td>0</td>\n",
              "      <td>0</td>\n",
              "      <td>0</td>\n",
              "      <td>0</td>\n",
              "      <td>0</td>\n",
              "      <td>0</td>\n",
              "      <td>0</td>\n",
              "      <td>0</td>\n",
              "      <td>0</td>\n",
              "      <td>0</td>\n",
              "      <td>0</td>\n",
              "      <td>0</td>\n",
              "      <td>0</td>\n",
              "      <td>0</td>\n",
              "      <td>0</td>\n",
              "      <td>0</td>\n",
              "      <td>1</td>\n",
              "      <td>0</td>\n",
              "    </tr>\n",
              "    <tr>\n",
              "      <th>18205</th>\n",
              "      <td>246268</td>\n",
              "      <td>D. Walker-Rice</td>\n",
              "      <td>17</td>\n",
              "      <td>https://cdn.sofifa.org/players/4/19/246268.png</td>\n",
              "      <td>England</td>\n",
              "      <td>https://cdn.sofifa.org/flags/14.png</td>\n",
              "      <td>47</td>\n",
              "      <td>66</td>\n",
              "      <td>586</td>\n",
              "      <td>https://cdn.sofifa.org/teams/2/light/15048.png</td>\n",
              "      <td>€60K</td>\n",
              "      <td>€1K</td>\n",
              "      <td>1228</td>\n",
              "      <td>Right</td>\n",
              "      <td>1.0</td>\n",
              "      <td>3.0</td>\n",
              "      <td>2.0</td>\n",
              "      <td>Medium/ Medium</td>\n",
              "      <td>Lean</td>\n",
              "      <td>No</td>\n",
              "      <td>34.0</td>\n",
              "      <td>NaN</td>\n",
              "      <td>2019</td>\n",
              "      <td>5'10</td>\n",
              "      <td>154lbs</td>\n",
              "      <td>44.0</td>\n",
              "      <td>50.0</td>\n",
              "      <td>39.0</td>\n",
              "      <td>42.0</td>\n",
              "      <td>40.0</td>\n",
              "      <td>51.0</td>\n",
              "      <td>34.0</td>\n",
              "      <td>32.0</td>\n",
              "      <td>32.0</td>\n",
              "      <td>52.0</td>\n",
              "      <td>61.0</td>\n",
              "      <td>60.0</td>\n",
              "      <td>52.0</td>\n",
              "      <td>21.0</td>\n",
              "      <td>71.0</td>\n",
              "      <td>...</td>\n",
              "      <td>50.0</td>\n",
              "      <td>46.0</td>\n",
              "      <td>20.0</td>\n",
              "      <td>25.0</td>\n",
              "      <td>27.0</td>\n",
              "      <td>14.0</td>\n",
              "      <td>6.0</td>\n",
              "      <td>14.0</td>\n",
              "      <td>8.0</td>\n",
              "      <td>9.0</td>\n",
              "      <td>NaN</td>\n",
              "      <td>1274.0</td>\n",
              "      <td>0</td>\n",
              "      <td>0</td>\n",
              "      <td>0</td>\n",
              "      <td>0</td>\n",
              "      <td>0</td>\n",
              "      <td>0</td>\n",
              "      <td>0</td>\n",
              "      <td>0</td>\n",
              "      <td>0</td>\n",
              "      <td>0</td>\n",
              "      <td>0</td>\n",
              "      <td>0</td>\n",
              "      <td>0</td>\n",
              "      <td>0</td>\n",
              "      <td>0</td>\n",
              "      <td>0</td>\n",
              "      <td>0</td>\n",
              "      <td>0</td>\n",
              "      <td>0</td>\n",
              "      <td>0</td>\n",
              "      <td>0</td>\n",
              "      <td>0</td>\n",
              "      <td>0</td>\n",
              "      <td>0</td>\n",
              "      <td>1</td>\n",
              "      <td>0</td>\n",
              "      <td>0</td>\n",
              "      <td>0</td>\n",
              "    </tr>\n",
              "    <tr>\n",
              "      <th>18206</th>\n",
              "      <td>246269</td>\n",
              "      <td>G. Nugent</td>\n",
              "      <td>16</td>\n",
              "      <td>https://cdn.sofifa.org/players/4/19/246269.png</td>\n",
              "      <td>England</td>\n",
              "      <td>https://cdn.sofifa.org/flags/14.png</td>\n",
              "      <td>46</td>\n",
              "      <td>66</td>\n",
              "      <td>586</td>\n",
              "      <td>https://cdn.sofifa.org/teams/2/light/15048.png</td>\n",
              "      <td>€60K</td>\n",
              "      <td>€1K</td>\n",
              "      <td>1321</td>\n",
              "      <td>Right</td>\n",
              "      <td>1.0</td>\n",
              "      <td>3.0</td>\n",
              "      <td>2.0</td>\n",
              "      <td>Medium/ Medium</td>\n",
              "      <td>Lean</td>\n",
              "      <td>No</td>\n",
              "      <td>33.0</td>\n",
              "      <td>NaN</td>\n",
              "      <td>2019</td>\n",
              "      <td>5'10</td>\n",
              "      <td>176lbs</td>\n",
              "      <td>41.0</td>\n",
              "      <td>34.0</td>\n",
              "      <td>46.0</td>\n",
              "      <td>48.0</td>\n",
              "      <td>30.0</td>\n",
              "      <td>43.0</td>\n",
              "      <td>40.0</td>\n",
              "      <td>34.0</td>\n",
              "      <td>44.0</td>\n",
              "      <td>51.0</td>\n",
              "      <td>57.0</td>\n",
              "      <td>55.0</td>\n",
              "      <td>55.0</td>\n",
              "      <td>51.0</td>\n",
              "      <td>63.0</td>\n",
              "      <td>...</td>\n",
              "      <td>33.0</td>\n",
              "      <td>43.0</td>\n",
              "      <td>40.0</td>\n",
              "      <td>43.0</td>\n",
              "      <td>50.0</td>\n",
              "      <td>10.0</td>\n",
              "      <td>15.0</td>\n",
              "      <td>9.0</td>\n",
              "      <td>12.0</td>\n",
              "      <td>9.0</td>\n",
              "      <td>NaN</td>\n",
              "      <td>1381.0</td>\n",
              "      <td>0</td>\n",
              "      <td>0</td>\n",
              "      <td>0</td>\n",
              "      <td>0</td>\n",
              "      <td>1</td>\n",
              "      <td>0</td>\n",
              "      <td>0</td>\n",
              "      <td>0</td>\n",
              "      <td>0</td>\n",
              "      <td>0</td>\n",
              "      <td>0</td>\n",
              "      <td>0</td>\n",
              "      <td>0</td>\n",
              "      <td>0</td>\n",
              "      <td>0</td>\n",
              "      <td>0</td>\n",
              "      <td>0</td>\n",
              "      <td>0</td>\n",
              "      <td>0</td>\n",
              "      <td>0</td>\n",
              "      <td>0</td>\n",
              "      <td>0</td>\n",
              "      <td>0</td>\n",
              "      <td>0</td>\n",
              "      <td>0</td>\n",
              "      <td>0</td>\n",
              "      <td>0</td>\n",
              "      <td>0</td>\n",
              "    </tr>\n",
              "  </tbody>\n",
              "</table>\n",
              "<p>18207 rows × 89 columns</p>\n",
              "</div>"
            ],
            "text/plain": [
              "           ID                Name  Age  ... RWB ST Unknown\n",
              "0      158023            L. Messi   31  ...   0  0       0\n",
              "1       20801   Cristiano Ronaldo   33  ...   0  1       0\n",
              "2      190871           Neymar Jr   26  ...   0  0       0\n",
              "3      193080              De Gea   27  ...   0  0       0\n",
              "4      192985        K. De Bruyne   27  ...   0  0       0\n",
              "...       ...                 ...  ...  ...  .. ..     ...\n",
              "18202  238813        J. Lundstram   19  ...   0  0       0\n",
              "18203  243165  N. Christoffersson   19  ...   0  1       0\n",
              "18204  241638           B. Worman   16  ...   0  1       0\n",
              "18205  246268      D. Walker-Rice   17  ...   0  0       0\n",
              "18206  246269           G. Nugent   16  ...   0  0       0\n",
              "\n",
              "[18207 rows x 89 columns]"
            ]
          },
          "metadata": {},
          "execution_count": 103
        }
      ]
    },
    {
      "cell_type": "code",
      "metadata": {
        "id": "2OrCq5ta1FOo"
      },
      "source": [
        "# train & test split\n",
        "from sklearn.model_selection import  train_test_split\n",
        "  x-train,x_test,y_train,y_test=train_test_split(x,y,test_size=0.2,random_state=0)"
      ],
      "execution_count": null,
      "outputs": []
    },
    {
      "cell_type": "code",
      "metadata": {
        "id": "AQuzuYSv3xdB"
      },
      "source": [
        "# import the train_test_split from sklearn\n",
        "from sklearn.model_selection import train_test_split\n",
        "\n",
        "# do a 80% train - 20% test split\n",
        "x_train, x_test, y_train, y_test = train_test_split( x , y , test_size = 0.2, random_state = 0)"
      ],
      "execution_count": null,
      "outputs": []
    },
    {
      "cell_type": "code",
      "metadata": {
        "id": "FelF2RFVyaO3"
      },
      "source": [
        ""
      ],
      "execution_count": null,
      "outputs": []
    }
  ]
}